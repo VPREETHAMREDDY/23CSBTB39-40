{
  "nbformat": 4,
  "nbformat_minor": 0,
  "metadata": {
    "colab": {
      "provenance": [],
      "authorship_tag": "ABX9TyMTlSd2wrkJVPA6oW231HJH",
      "include_colab_link": true
    },
    "kernelspec": {
      "name": "python3",
      "display_name": "Python 3"
    },
    "language_info": {
      "name": "python"
    }
  },
  "cells": [
    {
      "cell_type": "markdown",
      "metadata": {
        "id": "view-in-github",
        "colab_type": "text"
      },
      "source": [
        "<a href=\"https://colab.research.google.com/github/VPREETHAMREDDY/23CSBTB39-40/blob/main/SML_ASSIGNMENT_8.ipynb\" target=\"_parent\"><img src=\"https://colab.research.google.com/assets/colab-badge.svg\" alt=\"Open In Colab\"/></a>"
      ]
    },
    {
      "cell_type": "markdown",
      "source": [
        "QUESTION 1"
      ],
      "metadata": {
        "id": "dRwWtFlMlkV3"
      }
    },
    {
      "cell_type": "code",
      "execution_count": null,
      "metadata": {
        "colab": {
          "base_uri": "https://localhost:8080/"
        },
        "id": "NLlt1Dualbjf",
        "outputId": "e94ec33c-ccac-4b41-9fd3-0a5f1974f45d"
      },
      "outputs": [
        {
          "output_type": "stream",
          "name": "stdout",
          "text": [
            "Accuracy: 100.00%\n",
            "Confusion Matrix:\n",
            "[[2 0]\n",
            " [0 1]]\n"
          ]
        }
      ],
      "source": [
        "# Step 1: Import Libraries\n",
        "import pandas as pd\n",
        "from sklearn.model_selection import train_test_split\n",
        "from sklearn.preprocessing import StandardScaler\n",
        "from sklearn.neighbors import KNeighborsClassifier\n",
        "from sklearn.metrics import accuracy_score, confusion_matrix\n",
        "# Step 2: Load Data from Excel\n",
        "\n",
        "data = pd.read_excel('/content/pass.xlsx')\n",
        "# Step 3: Preprocess Data\n",
        "# Assuming the features are in columns 0-4 and target label in column 5\n",
        "X = data.iloc[:, :-1].values  # Features (Study Hours, Attendance, etc.)\n",
        "y = data.iloc[:, -1].values   # Target label (Pass/Fail, 1 = Pass, 0 = Fail)\n",
        "# Step 4: Split Data into Training and Test Sets\n",
        "X_train, X_test, y_train, y_test = train_test_split(X, y, test_size=0.3, random_state=42)\n",
        "# Step 5: Feature Scaling (Normalize/Standardize)\n",
        "scaler = StandardScaler()\n",
        "X_train = scaler.fit_transform(X_train)\n",
        "X_test = scaler.transform(X_test)\n",
        "# Step 6: Train the Model (k-NN Classifier in this case)\n",
        "k = 5  # Set the number of neighbors\n",
        "classifier = KNeighborsClassifier(n_neighbors=k)\n",
        "classifier.fit(X_train, y_train)\n",
        "# Step 7: Make Predictions\n",
        "y_pred = classifier.predict(X_test)\n",
        "# Step 8: Evaluate the Model\n",
        "accuracy = accuracy_score(y_test, y_pred)\n",
        "conf_matrix = confusion_matrix(y_test, y_pred)\n",
        "print(f'Accuracy: {accuracy*100:.2f}%')\n",
        "print('Confusion Matrix:')\n",
        "print(conf_matrix)"
      ]
    },
    {
      "cell_type": "markdown",
      "source": [
        "QUESTION 2"
      ],
      "metadata": {
        "id": "Wk6Zt_qMmRZy"
      }
    },
    {
      "cell_type": "code",
      "source": [
        "import pandas as pd\n",
        "# Load the dataset\n",
        "df = pd.read_csv('/content/diabetes_data_upload.csv')\n",
        "# Preview the dataset\n",
        "df.head()\n",
        "# Convert categorical data to numerical\n",
        "df['Gender'] = df['Gender'].map({'Male': 1, 'Female': 0})\n",
        "df['class'] = df['class'].map({'Positive': 1, 'Negative': 0})\n",
        "\n",
        "# One-hot encode other categorical columns if necessary\n",
        "df = pd.get_dummies(df, drop_first=True)\n",
        "\n",
        "# Separate features and target\n",
        "X = df.drop(columns='class')\n",
        "y = df['class']\n",
        "\n",
        "# Split the data into train and test sets\n",
        "from sklearn.model_selection import train_test_split\n",
        "X_train, X_test, y_train, y_test = train_test_split(X, y, test_size=0.2, random_state=42)\n",
        "from sklearn.linear_model import LogisticRegression\n",
        "from sklearn.metrics import accuracy_score\n",
        "\n",
        "# Initialize and train the model\n",
        "log_reg = LogisticRegression(max_iter=1000)\n",
        "log_reg.fit(X_train, y_train)\n",
        "\n",
        "# Make predictions on the test set\n",
        "y_pred = log_reg.predict(X_test)\n",
        "\n",
        "# Calculate accuracy\n",
        "accuracy = accuracy_score(y_test, y_pred)\n",
        "print(f\"Accuracy: {accuracy * 100:.2f}%\")\n",
        "from sklearn.metrics import confusion_matrix, classification_report\n",
        "\n",
        "# Confusion matrix\n",
        "cm = confusion_matrix(y_test, y_pred)\n",
        "print(\"Confusion Matrix:\")\n",
        "print(cm)\n",
        "\n",
        "# Classification report\n",
        "report = classification_report(y_test, y_pred)\n",
        "print(\"Classification Report:\")\n",
        "print(report)"
      ],
      "metadata": {
        "colab": {
          "base_uri": "https://localhost:8080/"
        },
        "id": "7xxwGZSdmS7R",
        "outputId": "e53876d2-6b2b-435b-c080-b57770a8f8cb"
      },
      "execution_count": null,
      "outputs": [
        {
          "output_type": "stream",
          "name": "stdout",
          "text": [
            "Accuracy: 92.31%\n",
            "Confusion Matrix:\n",
            "[[28  5]\n",
            " [ 3 68]]\n",
            "Classification Report:\n",
            "              precision    recall  f1-score   support\n",
            "\n",
            "           0       0.90      0.85      0.88        33\n",
            "           1       0.93      0.96      0.94        71\n",
            "\n",
            "    accuracy                           0.92       104\n",
            "   macro avg       0.92      0.90      0.91       104\n",
            "weighted avg       0.92      0.92      0.92       104\n",
            "\n"
          ]
        }
      ]
    }
  ]
}