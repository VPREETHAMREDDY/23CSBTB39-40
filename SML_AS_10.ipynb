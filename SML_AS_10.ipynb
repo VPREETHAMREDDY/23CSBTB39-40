{
  "nbformat": 4,
  "nbformat_minor": 0,
  "metadata": {
    "colab": {
      "provenance": [],
      "authorship_tag": "ABX9TyPgNK3xeyx1buv+KJjukJm6",
      "include_colab_link": true
    },
    "kernelspec": {
      "name": "python3",
      "display_name": "Python 3"
    },
    "language_info": {
      "name": "python"
    }
  },
  "cells": [
    {
      "cell_type": "markdown",
      "metadata": {
        "id": "view-in-github",
        "colab_type": "text"
      },
      "source": [
        "<a href=\"https://colab.research.google.com/github/VPREETHAMREDDY/23CSBTB39-40/blob/main/SML_AS_10.ipynb\" target=\"_parent\"><img src=\"https://colab.research.google.com/assets/colab-badge.svg\" alt=\"Open In Colab\"/></a>"
      ]
    },
    {
      "cell_type": "markdown",
      "source": [
        "**Question 1**"
      ],
      "metadata": {
        "id": "__catL5Lq6EZ"
      }
    },
    {
      "cell_type": "code",
      "execution_count": 6,
      "metadata": {
        "colab": {
          "base_uri": "https://localhost:8080/"
        },
        "id": "Uqcm2SMHoPVh",
        "outputId": "a7fcff45-f4f0-4bcc-e4ac-d0fd8d4663a8"
      },
      "outputs": [
        {
          "output_type": "stream",
          "name": "stdout",
          "text": [
            "Test Size: 20%, KNN Accuracy: 0.7313\n",
            "Test Size: 25%, KNN Accuracy: 0.7381\n",
            "Test Size: 30%, KNN Accuracy: 0.7327\n",
            "Test Size: 35%, KNN Accuracy: 0.7265\n"
          ]
        }
      ],
      "source": [
        "import pandas as pd\n",
        "from sklearn.model_selection import train_test_split\n",
        "from sklearn.preprocessing import LabelEncoder, StandardScaler\n",
        "from sklearn.neighbors import KNeighborsClassifier\n",
        "from sklearn.metrics import accuracy_score\n",
        "\n",
        "# Load the dataset\n",
        "df = pd.read_csv('/content/breast_cancer_survival.csv')\n",
        "\n",
        "# Preprocess the data\n",
        "# Encode categorical variables\n",
        "label_encoders = {}\n",
        "categorical_cols = ['Tumour_Stage', 'Histology', 'ER status', 'PR status',\n",
        "                    'HER2 status', 'Surgery_type', 'Patient_Status']\n",
        "\n",
        "for col in categorical_cols:\n",
        "    le = LabelEncoder()\n",
        "    df[col] = le.fit_transform(df[col])\n",
        "    label_encoders[col] = le\n",
        "\n",
        "# Define features (X) and target (y)\n",
        "X = df.drop(columns=['Patient_Status', 'Date_of_Surgery', 'Date_of_Last_Visit',\n",
        "                     'Gender'])\n",
        "y = df['Patient_Status']\n",
        "\n",
        "# Standardize the data\n",
        "scaler = StandardScaler()\n",
        "X_scaled = scaler.fit_transform(X)\n",
        "\n",
        "# Define test sizes\n",
        "test_sizes = [20, 25, 30, 35]\n",
        "\n",
        "# Train and evaluate KNN with different test sizes\n",
        "knn_accuracies = []\n",
        "for size in test_sizes:\n",
        "    # Split the data\n",
        "    X_train, X_test, y_train, y_test = train_test_split(X_scaled, y,\n",
        "                                                        test_size=size/100,\n",
        "                                                        random_state=42)\n",
        "    # Train KNN model\n",
        "    knn = KNeighborsClassifier(n_neighbors=5)\n",
        "    knn.fit(X_train, y_train)\n",
        "    # Predict and calculate accuracy\n",
        "    y_pred = knn.predict(X_test)\n",
        "    accuracy = accuracy_score(y_test, y_pred)\n",
        "    knn_accuracies.append(accuracy)\n",
        "\n",
        "# Display the results for each test size\n",
        "for i, size in enumerate(test_sizes):\n",
        "    print(f\"Test Size: {size}%, KNN Accuracy: {knn_accuracies[i]:.4f}\")\n"
      ]
    },
    {
      "cell_type": "markdown",
      "source": [
        "**Question 2**"
      ],
      "metadata": {
        "id": "g0PHkyChrLVc"
      }
    },
    {
      "cell_type": "code",
      "source": [
        "import pandas as pd\n",
        "from sklearn.model_selection import train_test_split\n",
        "from sklearn.preprocessing import LabelEncoder, StandardScaler\n",
        "from sklearn.svm import SVC\n",
        "from sklearn.metrics import accuracy_score\n",
        "\n",
        "# Load the dataset\n",
        "df = pd.read_csv('/content/breast_cancer_survival.csv')\n",
        "\n",
        "# Preprocess the data\n",
        "label_encoders = {}\n",
        "categorical_cols = ['Tumour_Stage', 'Histology', 'ER status', 'PR status',\n",
        "                    'HER2 status', 'Surgery_type', 'Patient_Status']\n",
        "\n",
        "for col in categorical_cols:\n",
        "    le = LabelEncoder()\n",
        "    df[col] = le.fit_transform(df[col])\n",
        "    label_encoders[col] = le\n",
        "\n",
        "# Define features (X) and target (y)\n",
        "X = df.drop(columns=['Patient_Status', 'Date_of_Surgery', 'Date_of_Last_Visit', 'Gender'])\n",
        "y = df['Patient_Status']\n",
        "\n",
        "# Standardize the data\n",
        "scaler = StandardScaler()\n",
        "X_scaled = scaler.fit_transform(X)\n",
        "\n",
        "# Define test sizes\n",
        "test_sizes = [20, 25, 30, 35]\n",
        "\n",
        "# Train and evaluate SVM with different test sizes\n",
        "svm_accuracies = []\n",
        "for size in test_sizes:\n",
        "    # Split the data\n",
        "    X_train, X_test, y_train, y_test = train_test_split(X_scaled, y, test_size=size/100, random_state=42)\n",
        "\n",
        "    # Train SVM model\n",
        "    svm = SVC(kernel='linear')\n",
        "    svm.fit(X_train, y_train)\n",
        "\n",
        "    # Predict and calculate accuracy\n",
        "    y_pred = svm.predict(X_test)\n",
        "    accuracy = accuracy_score(y_test, y_pred)\n",
        "    svm_accuracies.append(accuracy)\n",
        "\n",
        "# Display the results for each test size\n",
        "for i, size in enumerate(test_sizes):\n",
        "    print(f\"Test Size: {size}%, SVM Accuracy: {svm_accuracies[i]:.4f}\")\n"
      ],
      "metadata": {
        "colab": {
          "base_uri": "https://localhost:8080/"
        },
        "id": "WSLgRrDyrH4R",
        "outputId": "38616161-1897-44ad-8773-01c8a03da30b"
      },
      "execution_count": 7,
      "outputs": [
        {
          "output_type": "stream",
          "name": "stdout",
          "text": [
            "Test Size: 20%, SVM Accuracy: 0.7761\n",
            "Test Size: 25%, SVM Accuracy: 0.7738\n",
            "Test Size: 30%, SVM Accuracy: 0.7822\n",
            "Test Size: 35%, SVM Accuracy: 0.7863\n"
          ]
        }
      ]
    }
  ]
}