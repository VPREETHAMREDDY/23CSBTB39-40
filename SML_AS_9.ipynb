{
  "nbformat": 4,
  "nbformat_minor": 0,
  "metadata": {
    "colab": {
      "provenance": [],
      "mount_file_id": "1EP4is4SSbnUtj4m0S0idMbR5sw_39CiM",
      "authorship_tag": "ABX9TyOB6T98Z9hK+vh3VIsf7X+2",
      "include_colab_link": true
    },
    "kernelspec": {
      "name": "python3",
      "display_name": "Python 3"
    },
    "language_info": {
      "name": "python"
    }
  },
  "cells": [
    {
      "cell_type": "markdown",
      "metadata": {
        "id": "view-in-github",
        "colab_type": "text"
      },
      "source": [
        "<a href=\"https://colab.research.google.com/github/VPREETHAMREDDY/23CSBTB39-40/blob/main/SML_AS_9.ipynb\" target=\"_parent\"><img src=\"https://colab.research.google.com/assets/colab-badge.svg\" alt=\"Open In Colab\"/></a>"
      ]
    },
    {
      "cell_type": "markdown",
      "source": [
        "QUESTION-1"
      ],
      "metadata": {
        "id": "46c5fsRdkFhE"
      }
    },
    {
      "cell_type": "code",
      "execution_count": 1,
      "metadata": {
        "colab": {
          "base_uri": "https://localhost:8080/"
        },
        "id": "HwVdBACRkCWH",
        "outputId": "f85c27d7-d989-4856-9d10-bf42f59bad28"
      },
      "outputs": [
        {
          "output_type": "stream",
          "name": "stdout",
          "text": [
            "Test size: 0.2, Accuracy: 0.7761194029850746\n",
            "Test size: 0.3, Accuracy: 0.7722772277227723\n",
            "Test size: 0.4, Accuracy: 0.7611940298507462\n"
          ]
        }
      ],
      "source": [
        "import pandas as pd\n",
        "from sklearn.model_selection import train_test_split\n",
        "from sklearn.linear_model import LogisticRegression\n",
        "from sklearn.metrics import accuracy_score\n",
        "from sklearn.preprocessing import LabelEncoder, StandardScaler\n",
        "\n",
        "# Load the dataset (replace with the correct file path)\n",
        "data = pd.read_csv(\"/breast_cancer_survival.csv\")\n",
        "\n",
        "# Encode categorical variables to numeric using LabelEncoder\n",
        "for column in data.select_dtypes(include=['object']).columns:\n",
        "    label_encoder = LabelEncoder()\n",
        "    data[column] = label_encoder.fit_transform(data[column])\n",
        "\n",
        "# Separate features (input data) and target (output labels)\n",
        "features = data.iloc[:, :-1]  # All columns except the last one are features\n",
        "target = data.iloc[:, -1]     # The last column is the target variable\n",
        "\n",
        "# Scale the feature data to improve model performance\n",
        "scaler = StandardScaler()\n",
        "scaled_features = scaler.fit_transform(features)\n",
        "\n",
        "# Try different test sizes and check accuracy\n",
        "test_sizes = [0.2, 0.3, 0.4]  # Different proportions of data used for testing\n",
        "\n",
        "for size in test_sizes:\n",
        "    # Split the data into training and testing sets\n",
        "    X_train, X_test, y_train, y_test = train_test_split(scaled_features, target, test_size=size, random_state=42)\n",
        "\n",
        "    # Train the Logistic Regression model with increased iterations\n",
        "    model = LogisticRegression(max_iter=5000)  # Increased max_iter\n",
        "    model.fit(X_train, y_train)\n",
        "\n",
        "    # Predict the target values for the test set\n",
        "    y_pred = model.predict(X_test)\n",
        "\n",
        "    # Calculate the accuracy of the model\n",
        "    accuracy = accuracy_score(y_test, y_pred)\n",
        "\n",
        "    # Print the accuracy for the current test size\n",
        "    print(f\"Test size: {size}, Accuracy: {accuracy}\")\n"
      ]
    },
    {
      "cell_type": "markdown",
      "source": [
        "Question-2"
      ],
      "metadata": {
        "id": "UTq_rl1KoH59"
      }
    },
    {
      "cell_type": "code",
      "source": [
        "import pandas as pd\n",
        "from sklearn.model_selection import train_test_split\n",
        "from sklearn.linear_model import LogisticRegression\n",
        "from sklearn.metrics import accuracy_score\n",
        "from sklearn.preprocessing import LabelEncoder, StandardScaler\n",
        "\n",
        "# Load the dataset (replace with the correct file path)\n",
        "file_path = \"/breast_cancer_survival_001.csv\"\n",
        "data = pd.read_csv(file_path)\n",
        "\n",
        "# Encode categorical variables to numeric using LabelEncoder\n",
        "for column in data.select_dtypes(include=['object']).columns:\n",
        "    label_encoder = LabelEncoder()\n",
        "    data[column] = label_encoder.fit_transform(data[column])\n",
        "\n",
        "# Separate features (input data) and target (output labels)\n",
        "features = data.iloc[:, :-1]  # All columns except the last one are features\n",
        "target = data.iloc[:, -1]     # The last column is the target variable\n",
        "\n",
        "# Scale the feature data to improve model performance\n",
        "scaler = StandardScaler()\n",
        "scaled_features = scaler.fit_transform(features)\n",
        "\n",
        "# Experiment with different training/testing split ratios\n",
        "split_ranges = [0.1, 0.2, 0.3, 0.4, 0.5]  # Different training/test splits\n",
        "\n",
        "for split in split_ranges:\n",
        "    # Split the data into training and testing sets\n",
        "    X_train, X_test, y_train, y_test = train_test_split(scaled_features, target, test_size=split, random_state=42)\n",
        "\n",
        "    # Train the Logistic Regression model with increased iterations\n",
        "    model = LogisticRegression(max_iter=5000)  # Increased max_iter\n",
        "    model.fit(X_train, y_train)\n",
        "\n",
        "    # Predict the target values for the test set\n",
        "    y_pred = model.predict(X_test)\n",
        "\n",
        "    # Calculate the accuracy of the model\n",
        "    accuracy = accuracy_score(y_test, y_pred)\n",
        "\n",
        "    # Print the accuracy and split ratio\n",
        "    print(f\"Training/Test Split: {1-split}/{split}, Accuracy: {accuracy}\")\n"
      ],
      "metadata": {
        "colab": {
          "base_uri": "https://localhost:8080/"
        },
        "id": "qF4kRpIloFYj",
        "outputId": "8dc21041-1be9-4df4-ed17-817124f175f2"
      },
      "execution_count": 2,
      "outputs": [
        {
          "output_type": "stream",
          "name": "stdout",
          "text": [
            "Training/Test Split: 0.9/0.1, Accuracy: 0.7058823529411765\n",
            "Training/Test Split: 0.8/0.2, Accuracy: 0.7761194029850746\n",
            "Training/Test Split: 0.7/0.3, Accuracy: 0.7722772277227723\n",
            "Training/Test Split: 0.6/0.4, Accuracy: 0.7611940298507462\n",
            "Training/Test Split: 0.5/0.5, Accuracy: 0.7365269461077845\n"
          ]
        }
      ]
    }
  ]
}