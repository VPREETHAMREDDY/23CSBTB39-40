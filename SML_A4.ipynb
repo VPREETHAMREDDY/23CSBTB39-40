{
  "nbformat": 4,
  "nbformat_minor": 0,
  "metadata": {
    "colab": {
      "provenance": [],
      "authorship_tag": "ABX9TyMjYDF9OSCi1No2vXOWE+O8",
      "include_colab_link": true
    },
    "kernelspec": {
      "name": "python3",
      "display_name": "Python 3"
    },
    "language_info": {
      "name": "python"
    }
  },
  "cells": [
    {
      "cell_type": "markdown",
      "metadata": {
        "id": "view-in-github",
        "colab_type": "text"
      },
      "source": [
        "<a href=\"https://colab.research.google.com/github/VPREETHAMREDDY/23CSBTB39-40/blob/main/SML_A4.ipynb\" target=\"_parent\"><img src=\"https://colab.research.google.com/assets/colab-badge.svg\" alt=\"Open In Colab\"/></a>"
      ]
    },
    {
      "cell_type": "markdown",
      "source": [
        "QUESTION 1"
      ],
      "metadata": {
        "id": "RH_7yvbaC689"
      }
    },
    {
      "cell_type": "code",
      "execution_count": 2,
      "metadata": {
        "colab": {
          "base_uri": "https://localhost:8080/"
        },
        "id": "8vewLKgEB6nE",
        "outputId": "90e815f0-47fb-48c2-f233-68366d32c147"
      },
      "outputs": [
        {
          "output_type": "stream",
          "name": "stdout",
          "text": [
            "   battery_power  blue  clock_speed  dual_sim  fc  four_g  int_memory  m_dep  \\\n",
            "0            842     0          2.2         0   1       0           7    0.6   \n",
            "1           1021     1          0.5         1   0       1          53    0.7   \n",
            "2            563     1          0.5         1   2       1          41    0.9   \n",
            "3            615     1          2.5         0   0       0          10    0.8   \n",
            "4           1821     1          1.2         0  13       1          44    0.6   \n",
            "\n",
            "   mobile_wt  n_cores  ...  px_height  px_width   ram  sc_h  sc_w  talk_time  \\\n",
            "0        188        2  ...         20       756  2549     9     7         19   \n",
            "1        136        3  ...        905      1988  2631    17     3          7   \n",
            "2        145        5  ...       1263      1716  2603    11     2          9   \n",
            "3        131        6  ...       1216      1786  2769    16     8         11   \n",
            "4        141        2  ...       1208      1212  1411     8     2         15   \n",
            "\n",
            "   three_g  touch_screen  wifi  price_range  \n",
            "0        0             0     1            1  \n",
            "1        1             1     0            2  \n",
            "2        1             1     0            2  \n",
            "3        1             0     0            2  \n",
            "4        1             1     0            1  \n",
            "\n",
            "[5 rows x 21 columns]\n"
          ]
        }
      ],
      "source": [
        "import pandas as pd\n",
        "from sklearn.model_selection import train_test_split\n",
        "from sklearn.preprocessing import MinMaxScaler\n",
        "# Load the data\n",
        "data = pd.read_csv('/content/train.csv')\n",
        "\n",
        "# Display the first few rows\n",
        "print(data.head())\n",
        "\n",
        "# Define features and target variable\n",
        "features = data.drop('price_range', axis=1)  # assuming 'price_range' is the target\n",
        "target = data['price_range']\n",
        "# Initialize the MinMaxScaler\n",
        "scaler = MinMaxScaler()\n",
        "\n",
        "# Fit and transform the features\n",
        "features_normalized = pd.DataFrame(scaler.fit_transform(features), columns=features.columns)\n",
        "# Split the data into 80% training and 20% testing sets\n",
        "X_train, X_test, y_train, y_test = train_test_split(features_normalized, target, test_size=0.2, random_state=42)\n"
      ]
    },
    {
      "cell_type": "markdown",
      "source": [
        "QUESTION:2"
      ],
      "metadata": {
        "id": "vu1rhQoWC_LW"
      }
    },
    {
      "cell_type": "code",
      "source": [
        "# Load the data\n",
        "data = pd.read_csv('/content/train.csv')\n",
        "# Get a summary of the data\n",
        "print(data.describe())\n",
        "# Get data types and shape\n",
        "print(data.dtypes)\n",
        "print(data.shape)\n",
        "# Define features and target variable\n",
        "features = data.drop('price_range', axis=1)\n",
        "target = data['price_range']\n",
        "# Check for null values\n",
        "print(data.isnull().sum())\n",
        "\n",
        "# Fill null values with 0 or mean\n",
        "data.fillna(0, inplace=True)  # Alternatively, data.fillna(data.mean(), inplace=True)\n",
        "# Initialize MinMaxScaler\n",
        "scaler = MinMaxScaler()\n",
        "\n",
        "# Normalize the features\n",
        "features_normalized = pd.DataFrame(scaler.fit_transform(features), columns=features.columns)\n",
        "# Split the data into train and test sets\n",
        "X_train, X_test, y_train, y_test = train_test_split(features_normalized, target, test_size=0.2, random_state=42)\n"
      ],
      "metadata": {
        "colab": {
          "base_uri": "https://localhost:8080/"
        },
        "id": "zgZyET_VCWoL",
        "outputId": "342c4acd-b666-435d-ae6a-09934b661df2"
      },
      "execution_count": 3,
      "outputs": [
        {
          "output_type": "stream",
          "name": "stdout",
          "text": [
            "       battery_power       blue  clock_speed     dual_sim           fc  \\\n",
            "count    2000.000000  2000.0000  2000.000000  2000.000000  2000.000000   \n",
            "mean     1238.518500     0.4950     1.522250     0.509500     4.309500   \n",
            "std       439.418206     0.5001     0.816004     0.500035     4.341444   \n",
            "min       501.000000     0.0000     0.500000     0.000000     0.000000   \n",
            "25%       851.750000     0.0000     0.700000     0.000000     1.000000   \n",
            "50%      1226.000000     0.0000     1.500000     1.000000     3.000000   \n",
            "75%      1615.250000     1.0000     2.200000     1.000000     7.000000   \n",
            "max      1998.000000     1.0000     3.000000     1.000000    19.000000   \n",
            "\n",
            "            four_g   int_memory        m_dep    mobile_wt      n_cores  ...  \\\n",
            "count  2000.000000  2000.000000  2000.000000  2000.000000  2000.000000  ...   \n",
            "mean      0.521500    32.046500     0.501750   140.249000     4.520500  ...   \n",
            "std       0.499662    18.145715     0.288416    35.399655     2.287837  ...   \n",
            "min       0.000000     2.000000     0.100000    80.000000     1.000000  ...   \n",
            "25%       0.000000    16.000000     0.200000   109.000000     3.000000  ...   \n",
            "50%       1.000000    32.000000     0.500000   141.000000     4.000000  ...   \n",
            "75%       1.000000    48.000000     0.800000   170.000000     7.000000  ...   \n",
            "max       1.000000    64.000000     1.000000   200.000000     8.000000  ...   \n",
            "\n",
            "         px_height     px_width          ram         sc_h         sc_w  \\\n",
            "count  2000.000000  2000.000000  2000.000000  2000.000000  2000.000000   \n",
            "mean    645.108000  1251.515500  2124.213000    12.306500     5.767000   \n",
            "std     443.780811   432.199447  1084.732044     4.213245     4.356398   \n",
            "min       0.000000   500.000000   256.000000     5.000000     0.000000   \n",
            "25%     282.750000   874.750000  1207.500000     9.000000     2.000000   \n",
            "50%     564.000000  1247.000000  2146.500000    12.000000     5.000000   \n",
            "75%     947.250000  1633.000000  3064.500000    16.000000     9.000000   \n",
            "max    1960.000000  1998.000000  3998.000000    19.000000    18.000000   \n",
            "\n",
            "         talk_time      three_g  touch_screen         wifi  price_range  \n",
            "count  2000.000000  2000.000000   2000.000000  2000.000000  2000.000000  \n",
            "mean     11.011000     0.761500      0.503000     0.507000     1.500000  \n",
            "std       5.463955     0.426273      0.500116     0.500076     1.118314  \n",
            "min       2.000000     0.000000      0.000000     0.000000     0.000000  \n",
            "25%       6.000000     1.000000      0.000000     0.000000     0.750000  \n",
            "50%      11.000000     1.000000      1.000000     1.000000     1.500000  \n",
            "75%      16.000000     1.000000      1.000000     1.000000     2.250000  \n",
            "max      20.000000     1.000000      1.000000     1.000000     3.000000  \n",
            "\n",
            "[8 rows x 21 columns]\n",
            "battery_power      int64\n",
            "blue               int64\n",
            "clock_speed      float64\n",
            "dual_sim           int64\n",
            "fc                 int64\n",
            "four_g             int64\n",
            "int_memory         int64\n",
            "m_dep            float64\n",
            "mobile_wt          int64\n",
            "n_cores            int64\n",
            "pc                 int64\n",
            "px_height          int64\n",
            "px_width           int64\n",
            "ram                int64\n",
            "sc_h               int64\n",
            "sc_w               int64\n",
            "talk_time          int64\n",
            "three_g            int64\n",
            "touch_screen       int64\n",
            "wifi               int64\n",
            "price_range        int64\n",
            "dtype: object\n",
            "(2000, 21)\n",
            "battery_power    0\n",
            "blue             0\n",
            "clock_speed      0\n",
            "dual_sim         0\n",
            "fc               0\n",
            "four_g           0\n",
            "int_memory       0\n",
            "m_dep            0\n",
            "mobile_wt        0\n",
            "n_cores          0\n",
            "pc               0\n",
            "px_height        0\n",
            "px_width         0\n",
            "ram              0\n",
            "sc_h             0\n",
            "sc_w             0\n",
            "talk_time        0\n",
            "three_g          0\n",
            "touch_screen     0\n",
            "wifi             0\n",
            "price_range      0\n",
            "dtype: int64\n"
          ]
        }
      ]
    }
  ]
}