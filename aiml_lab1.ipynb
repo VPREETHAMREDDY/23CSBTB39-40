{
  "nbformat": 4,
  "nbformat_minor": 0,
  "metadata": {
    "colab": {
      "provenance": [],
      "authorship_tag": "ABX9TyPj+OOSLBdoGZeL8VqFxjZr",
      "include_colab_link": true
    },
    "kernelspec": {
      "name": "python3",
      "display_name": "Python 3"
    },
    "language_info": {
      "name": "python"
    }
  },
  "cells": [
    {
      "cell_type": "markdown",
      "metadata": {
        "id": "view-in-github",
        "colab_type": "text"
      },
      "source": [
        "<a href=\"https://colab.research.google.com/github/VPREETHAMREDDY/23CSBTB39-40/blob/main/aiml_lab1.ipynb\" target=\"_parent\"><img src=\"https://colab.research.google.com/assets/colab-badge.svg\" alt=\"Open In Colab\"/></a>"
      ]
    },
    {
      "cell_type": "code",
      "source": [
        "import numpy as np\n",
        "list = [1,2,3,4,5]\n",
        "print(list)\n"
      ],
      "metadata": {
        "id": "4LV6C6uyJ9IJ"
      },
      "execution_count": null,
      "outputs": []
    },
    {
      "cell_type": "code",
      "source": [
        "str_list = \"Welcome to Guru99\"\n",
        "age = 50\n",
        "pi = 3.14\n",
        "c_num = 3j+10\n",
        "my_list = [\"A\",\"B\",\"C\",\"D\"]\n",
        "my_tuple = (\"A\",\"B\",\"C\",\"D\")\n",
        "my_set = {\"A\",\"B\",\"C\",\"D\"}\n",
        "my_dict = {\"A\":1,\"B\":2,\"C\":3,\"D\":4}"
      ],
      "metadata": {
        "id": "t0lIr4h6KFjg"
      },
      "execution_count": 1,
      "outputs": []
    }
  ]
}