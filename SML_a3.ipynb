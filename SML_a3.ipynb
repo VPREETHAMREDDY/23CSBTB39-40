{
  "nbformat": 4,
  "nbformat_minor": 0,
  "metadata": {
    "colab": {
      "provenance": [],
      "authorship_tag": "ABX9TyP/dehOyL8LXL5rybGpjjgE",
      "include_colab_link": true
    },
    "kernelspec": {
      "name": "python3",
      "display_name": "Python 3"
    },
    "language_info": {
      "name": "python"
    }
  },
  "cells": [
    {
      "cell_type": "markdown",
      "metadata": {
        "id": "view-in-github",
        "colab_type": "text"
      },
      "source": [
        "<a href=\"https://colab.research.google.com/github/VPREETHAMREDDY/23CSBTB39-40/blob/main/SML_a3.ipynb\" target=\"_parent\"><img src=\"https://colab.research.google.com/assets/colab-badge.svg\" alt=\"Open In Colab\"/></a>"
      ]
    },
    {
      "cell_type": "code",
      "execution_count": 1,
      "metadata": {
        "colab": {
          "base_uri": "https://localhost:8080/"
        },
        "id": "jfyszwye_vhu",
        "outputId": "7eb14eee-f591-480b-bfcf-cd8794d13e0d"
      },
      "outputs": [
        {
          "output_type": "execute_result",
          "data": {
            "text/plain": [
              "0.5"
            ]
          },
          "metadata": {},
          "execution_count": 1
        }
      ],
      "source": [
        "#maximum likelihood method\n",
        "#define the dataset x\n",
        "#step1:count the number ohf heads (1s) and tails(0s)\n",
        "X={1,0,1,1,0,1,0,1,1,0}\n",
        "num_heads=sum(X)\n",
        "num_tails=len(X)-num_heads\n",
        "#step:2calculate the maximum likelihood estimate for p\n",
        "p_mle=num_heads/len(X)\n",
        "#step3:display the results\n",
        "p_mle"
      ]
    },
    {
      "cell_type": "code",
      "source": [
        "# Step 1: Import necessary libraries\n",
        "import numpy as np\n",
        "\n",
        "# Step 2: Define the dataset X\n",
        "X = np.array([1, 0, 1, 1, 0, 1, 0, 1, 1, 0])\n",
        "\n",
        "# Step 3: Define a function to calculate the log-likelihood\n",
        "def log_likelihood(p, X):\n",
        "    return np.sum(X * np.log(p) + (1 - X) * np.log(1 - p))\n",
        "\n",
        "# Step 4: Calculate log-likelihood for p = 0.50, 0.75, 0.80\n",
        "p_values = [0.50, 0.75, 0.80]\n",
        "log_likelihood_values = {p: log_likelihood(p, X) for p in p_values}\n",
        "\n",
        "# Display the results\n",
        "log_likelihood_values\n"
      ],
      "metadata": {
        "colab": {
          "base_uri": "https://localhost:8080/"
        },
        "id": "meP2-2Ux_7Nq",
        "outputId": "5b7dc823-ff89-4896-a69f-732955b61ecc"
      },
      "execution_count": 5,
      "outputs": [
        {
          "output_type": "execute_result",
          "data": {
            "text/plain": [
              "{0.5: -6.931471805599453, 0.75: -7.271269879190248, 0.8: -7.77661295762166}"
            ]
          },
          "metadata": {},
          "execution_count": 5
        }
      ]
    },
    {
      "cell_type": "code",
      "source": [
        "# 3. Given the following dataset: X={2.3,2.5,3.6,2.8,3.1,2.9,3.2,2.7,2.8,3.0}. Compute the density of the data using a histogram with 5 bins.\n",
        "# Step 1: Import necessary libraries\n",
        "import numpy as np\n",
        "import matplotlib.pyplot as plt\n",
        "# Step 2: Define the dataset X\n",
        "X = np.array([2.3, 2.5, 3.6, 2.8, 3.1, 2.9, 3.2, 2.7, 2.8, 3.0])\n",
        "# Step 3: Plot the histogram with 5 bins and density=True\n",
        "1\n",
        "plt.hist(X, bins=5, density=True, edgecolor='black')\n",
        "# Step 4: Add titles and labels to the plot\n",
        "plt.title(\"Histogram with 5 Bins and Density\")\n",
        "plt.xlabel(\"Value\")\n",
        "plt.ylabel(\"Density\")\n",
        "# Step 5: Display the plot\n",
        "plt.show()\n"
      ],
      "metadata": {
        "colab": {
          "base_uri": "https://localhost:8080/",
          "height": 472
        },
        "id": "15Nq96FX__jI",
        "outputId": "f06cefdf-ca94-4158-f4ae-d6c90541e2ac"
      },
      "execution_count": 4,
      "outputs": [
        {
          "output_type": "display_data",
          "data": {
            "text/plain": [
              "<Figure size 640x480 with 1 Axes>"
            ],
            "image/png": "[encoded data removed]"
          },
          "metadata": {}
        }
      ]
    }
  ]
}